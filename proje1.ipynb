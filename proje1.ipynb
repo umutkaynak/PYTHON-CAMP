{
 "cells": [
  {
   "cell_type": "code",
   "execution_count": 2,
   "metadata": {},
   "outputs": [
    {
     "name": "stdout",
     "output_type": "stream",
     "text": [
      "geçersiz değer aralığı girdiniz\n",
      "<class 'pandas.core.frame.DataFrame'>\n",
      "Index: 1 entries, Umtu Ajhdja to Umtu Ajhdja\n",
      "Data columns (total 5 columns):\n",
      " #   Column     Non-Null Count  Dtype \n",
      "---  ------     --------------  ----- \n",
      " 0   DERS       1 non-null      object\n",
      " 1   OKUL NO    1 non-null      int64 \n",
      " 2   DERS NOTU  1 non-null      int64 \n",
      " 3   DURUM      1 non-null      object\n",
      " 4   HARF NOTU  1 non-null      object\n",
      "dtypes: int64(2), object(3)\n",
      "memory usage: 48.0+ bytes\n"
     ]
    }
   ],
   "source": [
    "import pandas as pd\n",
    "import numpy as np\n",
    "import xlsxwriter as ex\n",
    "\n",
    "\n",
    "ogrenci= {}\n",
    "durum = {}\n",
    "not_araliği ={}\n",
    "ders={}\n",
    "\n",
    "\n",
    "def ogr_bil():\n",
    "    ad = input(\"\\nLütfen öğrencinin adını giriniz : \")\n",
    "    soyad = input(\"Lütfen öğrencinin soyadını giriniz: \")\n",
    "\n",
    "    adi_soyadi = f\"{ad} \".capitalize() + f\"{soyad}\".capitalize()\n",
    "    ders_kodu= int(input(\"Lütfen öğrencinin 1-3 arası ders kodunu  giriniz: \"))\n",
    "    okul_no = int(input(\"Lütfen öğrencinin okul numarasını giriniz: \"))\n",
    "    sinav_notu = int(input(\"Lütfen öğrencinin sınav notunu giriniz: \"))\n",
    "\n",
    "\n",
    "    if sinav_notu > 100 or sinav_notu < 0:\n",
    "        sinav_notu = int(input(\"Öğrenci notu 0 ile 100 arasında olmalıdır! Lütfen öğrencinin sınav notunu giriniz: \"))\n",
    "\n",
    "    if sinav_notu >0 and sinav_notu<= 50:\n",
    "        not_araliği=(\"FF\")\n",
    "    if sinav_notu >51 and sinav_notu<=65:\n",
    "        not_araliği=(\"DD\")\n",
    "    if sinav_notu >66 and sinav_notu<=75:\n",
    "        not_araliği=(\"CC\")\n",
    "    if sinav_notu >76 and sinav_notu<=80:\n",
    "        not_araliği=(\"BB\")\n",
    "    if sinav_notu >81 and sinav_notu<=100:\n",
    "        not_araliği=(\"AA\")\n",
    "    if ders_kodu== 1:\n",
    "        ders=\"FELSEFE\"\n",
    "    if ders_kodu== 2:\n",
    "        ders=\"İSTATİSTİK\"\n",
    "    if ders_kodu== 3:\n",
    "        ders=\"MATEMATİK\"\n",
    "    else:\n",
    "        print(\"geçersiz değer aralığı girdiniz\")\n",
    "\n",
    "\n",
    "    if sinav_notu >= 55:\n",
    "        durum = \"geçti\"\n",
    "    else:\n",
    "        durum = \"kaldı\"\n",
    "\n",
    "    ogrenci[adi_soyadi] = [ders,okul_no, sinav_notu,durum,not_araliği]\n",
    "\n",
    "def sonuc(sinav_notu):\n",
    "    global df_sonuc\n",
    "    df_sonuc= pd.DataFrame.from_dict(sinav_notu, orient =\"index\")\n",
    "    df_sonuc.columns=[\"GEÇENLER\",\"KALANLAR\"]\n",
    "    df_sonuc.info()\n",
    "    return df_sonuc\n",
    "\n",
    "\n",
    "\n",
    "def cr_df(data):\n",
    "    global df_ogrenci\n",
    "    df_ogrenci = pd.DataFrame.from_dict(data, orient =\"index\")\n",
    "    df_ogrenci.columns = [\"DERS\",\"OKUL NO\",\"DERS NOTU\",\"DURUM\",\"HARF NOTU\"]\n",
    "    df_ogrenci.info()\n",
    "    return df_ogrenci\n",
    "\n",
    "def cr_xls(data):\n",
    "    data.to_excel(\"std_sc.xlsx\")\n",
    "    return\n",
    "\n",
    "ogr_bil()\n",
    "\n",
    "ogrenci.items()\n",
    "\n",
    "cr_df(ogrenci)\n",
    "\n",
    "cr_xls(df_ogrenci)"
   ]
  }
 ],
 "metadata": {
  "kernelspec": {
   "display_name": "Python 3.9.5 64-bit",
   "language": "python",
   "name": "python3"
  },
  "language_info": {
   "codemirror_mode": {
    "name": "ipython",
    "version": 3
   },
   "file_extension": ".py",
   "mimetype": "text/x-python",
   "name": "python",
   "nbconvert_exporter": "python",
   "pygments_lexer": "ipython3",
   "version": "3.9.5"
  },
  "orig_nbformat": 4,
  "vscode": {
   "interpreter": {
    "hash": "78923b2d5e6018e0e6b2e5907a12090c583951b6dc63317b7bd54daded8dce81"
   }
  }
 },
 "nbformat": 4,
 "nbformat_minor": 2
}
