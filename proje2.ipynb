{
 "cells": [
  {
   "cell_type": "code",
   "execution_count": 2,
   "metadata": {},
   "outputs": [],
   "source": [
    "\n",
    "import matplotlib.pyplot as plt\n",
    "import seaborn as sns\n",
    "import numpy as np \n",
    "import pandas as pd \n",
    "\n",
    "\n",
    "df = pd.read_csv(\"NetflixOriginals.csv\", encoding='ISO-8859-1')"
   ]
  },
  {
   "cell_type": "markdown",
   "metadata": {},
   "source": [
    "Veri setine göre uzun soluklu filmler hangi dilde oluşturulmuştur? Görselleştirme yapınız."
   ]
  },
  {
   "cell_type": "code",
   "execution_count": 155,
   "metadata": {},
   "outputs": [
    {
     "data": {
      "text/plain": [
       "<AxesSubplot:xlabel='Runtime', ylabel='Language'>"
      ]
     },
     "execution_count": 155,
     "metadata": {},
     "output_type": "execute_result"
    },
    {
     "data": {
      "image/png": "[encoded data removed]",
      "text/plain": [
       "<Figure size 432x288 with 1 Axes>"
      ]
     },
     "metadata": {
      "needs_background": "light"
     },
     "output_type": "display_data"
    }
   ],
   "source": [
    "#df.groupby(\"Language\").agg({\"Runtime\": \"mean\"}).sort_values(by=\"Runtime\")\n",
    "#df.groupby(\"Language\").agg({\"Runtime\": \"mean\"}).sort_values(by=\"Runtime\")[0:1]\n",
    "a = df.groupby(\"Language\").agg({\"Runtime\": \"mean\"}).sort_values(by=\"Runtime\").reset_index()\n",
    "a.Runtime.mean()\n",
    "sns.barplot(y=a[\"Language\"], x=a.loc[(a[\"Runtime\"] >= 91.62748731515471)][\"Runtime\"])\n",
    "\n"
   ]
  },
  {
   "cell_type": "markdown",
   "metadata": {},
   "source": [
    "2019 Ocak ile 2020 Haziran tarihleri arasında 'Documentary' türünde çekilmiş filmlerin IMDB değerlerini bulup görselleştiriniz."
   ]
  },
  {
   "cell_type": "code",
   "execution_count": 154,
   "metadata": {},
   "outputs": [
    {
     "name": "stderr",
     "output_type": "stream",
     "text": [
      "C:\\Users\\umutk\\AppData\\Local\\Temp\\ipykernel_12028\\236483426.py:2: SettingWithCopyWarning: \n",
      "A value is trying to be set on a copy of a slice from a DataFrame.\n",
      "Try using .loc[row_indexer,col_indexer] = value instead\n",
      "\n",
      "See the caveats in the documentation: https://pandas.pydata.org/pandas-docs/stable/user_guide/indexing.html#returning-a-view-versus-a-copy\n",
      "  doc[\"Premiere\"]=pd.to_datetime(doc.Premiere)\n"
     ]
    },
    {
     "data": {
      "text/html": [
       "<div>\n",
       "<style scoped>\n",
       "    .dataframe tbody tr th:only-of-type {\n",
       "        vertical-align: middle;\n",
       "    }\n",
       "\n",
       "    .dataframe tbody tr th {\n",
       "        vertical-align: top;\n",
       "    }\n",
       "\n",
       "    .dataframe thead th {\n",
       "        text-align: right;\n",
       "    }\n",
       "</style>\n",
       "<table border=\"1\" class=\"dataframe\">\n",
       "  <thead>\n",
       "    <tr style=\"text-align: right;\">\n",
       "      <th></th>\n",
       "      <th>Title</th>\n",
       "      <th>Genre</th>\n",
       "      <th>Premiere</th>\n",
       "      <th>Runtime</th>\n",
       "      <th>IMDB Score</th>\n",
       "      <th>Language</th>\n",
       "      <th>Year</th>\n",
       "    </tr>\n",
       "    <tr>\n",
       "      <th>Premiere</th>\n",
       "      <th></th>\n",
       "      <th></th>\n",
       "      <th></th>\n",
       "      <th></th>\n",
       "      <th></th>\n",
       "      <th></th>\n",
       "      <th></th>\n",
       "    </tr>\n",
       "  </thead>\n",
       "  <tbody>\n",
       "    <tr>\n",
       "      <th>2019-08-05</th>\n",
       "      <td>Enter the Anime</td>\n",
       "      <td>Documentary</td>\n",
       "      <td>2019-08-05</td>\n",
       "      <td>58</td>\n",
       "      <td>2.5</td>\n",
       "      <td>English/Japanese</td>\n",
       "      <td>August 5, 2019</td>\n",
       "    </tr>\n",
       "    <tr>\n",
       "      <th>2021-04-22</th>\n",
       "      <td>Searching for Sheela</td>\n",
       "      <td>Documentary</td>\n",
       "      <td>2021-04-22</td>\n",
       "      <td>58</td>\n",
       "      <td>4.1</td>\n",
       "      <td>English</td>\n",
       "      <td>April 22, 2021</td>\n",
       "    </tr>\n",
       "    <tr>\n",
       "      <th>2019-12-19</th>\n",
       "      <td>After the Raid</td>\n",
       "      <td>Documentary</td>\n",
       "      <td>2019-12-19</td>\n",
       "      <td>25</td>\n",
       "      <td>4.3</td>\n",
       "      <td>Spanish</td>\n",
       "      <td>December 19, 2019</td>\n",
       "    </tr>\n",
       "    <tr>\n",
       "      <th>2019-09-13</th>\n",
       "      <td>Hello Privilege. It's Me, Chelsea</td>\n",
       "      <td>Documentary</td>\n",
       "      <td>2019-09-13</td>\n",
       "      <td>64</td>\n",
       "      <td>4.4</td>\n",
       "      <td>English</td>\n",
       "      <td>September 13, 2019</td>\n",
       "    </tr>\n",
       "    <tr>\n",
       "      <th>2019-05-24</th>\n",
       "      <td>After Maria</td>\n",
       "      <td>Documentary</td>\n",
       "      <td>2019-05-24</td>\n",
       "      <td>37</td>\n",
       "      <td>4.6</td>\n",
       "      <td>English/Spanish</td>\n",
       "      <td>May 24, 2019</td>\n",
       "    </tr>\n",
       "    <tr>\n",
       "      <th>...</th>\n",
       "      <td>...</td>\n",
       "      <td>...</td>\n",
       "      <td>...</td>\n",
       "      <td>...</td>\n",
       "      <td>...</td>\n",
       "      <td>...</td>\n",
       "      <td>...</td>\n",
       "    </tr>\n",
       "    <tr>\n",
       "      <th>2017-11-24</th>\n",
       "      <td>Cuba and the Cameraman</td>\n",
       "      <td>Documentary</td>\n",
       "      <td>2017-11-24</td>\n",
       "      <td>114</td>\n",
       "      <td>8.3</td>\n",
       "      <td>English</td>\n",
       "      <td>November 24, 2017</td>\n",
       "    </tr>\n",
       "    <tr>\n",
       "      <th>2019-10-23</th>\n",
       "      <td>Dancing with the Birds</td>\n",
       "      <td>Documentary</td>\n",
       "      <td>2019-10-23</td>\n",
       "      <td>51</td>\n",
       "      <td>8.3</td>\n",
       "      <td>English</td>\n",
       "      <td>October 23, 2019</td>\n",
       "    </tr>\n",
       "    <tr>\n",
       "      <th>2015-10-09</th>\n",
       "      <td>Winter on Fire: Ukraine's Fight for Freedom</td>\n",
       "      <td>Documentary</td>\n",
       "      <td>2015-10-09</td>\n",
       "      <td>91</td>\n",
       "      <td>8.4</td>\n",
       "      <td>English/Ukranian/Russian</td>\n",
       "      <td>October 9, 2015</td>\n",
       "    </tr>\n",
       "    <tr>\n",
       "      <th>2020-12-08</th>\n",
       "      <td>Emicida: AmarElo - It's All For Yesterday</td>\n",
       "      <td>Documentary</td>\n",
       "      <td>2020-12-08</td>\n",
       "      <td>89</td>\n",
       "      <td>8.6</td>\n",
       "      <td>Portuguese</td>\n",
       "      <td>December 8, 2020</td>\n",
       "    </tr>\n",
       "    <tr>\n",
       "      <th>2020-10-04</th>\n",
       "      <td>David Attenborough: A Life on Our Planet</td>\n",
       "      <td>Documentary</td>\n",
       "      <td>2020-10-04</td>\n",
       "      <td>83</td>\n",
       "      <td>9.0</td>\n",
       "      <td>English</td>\n",
       "      <td>October 4, 2020</td>\n",
       "    </tr>\n",
       "  </tbody>\n",
       "</table>\n",
       "<p>159 rows × 7 columns</p>\n",
       "</div>"
      ],
      "text/plain": [
       "                                                  Title        Genre  \\\n",
       "Premiere                                                               \n",
       "2019-08-05                              Enter the Anime  Documentary   \n",
       "2021-04-22                         Searching for Sheela  Documentary   \n",
       "2019-12-19                               After the Raid  Documentary   \n",
       "2019-09-13            Hello Privilege. It's Me, Chelsea  Documentary   \n",
       "2019-05-24                                  After Maria  Documentary   \n",
       "...                                                 ...          ...   \n",
       "2017-11-24                      Cuba and the Cameraman   Documentary   \n",
       "2019-10-23                       Dancing with the Birds  Documentary   \n",
       "2015-10-09  Winter on Fire: Ukraine's Fight for Freedom  Documentary   \n",
       "2020-12-08    Emicida: AmarElo - It's All For Yesterday  Documentary   \n",
       "2020-10-04     David Attenborough: A Life on Our Planet  Documentary   \n",
       "\n",
       "             Premiere  Runtime  IMDB Score                  Language  \\\n",
       "Premiere                                                               \n",
       "2019-08-05 2019-08-05       58         2.5          English/Japanese   \n",
       "2021-04-22 2021-04-22       58         4.1                   English   \n",
       "2019-12-19 2019-12-19       25         4.3                   Spanish   \n",
       "2019-09-13 2019-09-13       64         4.4                   English   \n",
       "2019-05-24 2019-05-24       37         4.6           English/Spanish   \n",
       "...               ...      ...         ...                       ...   \n",
       "2017-11-24 2017-11-24      114         8.3                   English   \n",
       "2019-10-23 2019-10-23       51         8.3                   English   \n",
       "2015-10-09 2015-10-09       91         8.4  English/Ukranian/Russian   \n",
       "2020-12-08 2020-12-08       89         8.6                Portuguese   \n",
       "2020-10-04 2020-10-04       83         9.0                   English   \n",
       "\n",
       "                          Year  \n",
       "Premiere                        \n",
       "2019-08-05      August 5, 2019  \n",
       "2021-04-22      April 22, 2021  \n",
       "2019-12-19   December 19, 2019  \n",
       "2019-09-13  September 13, 2019  \n",
       "2019-05-24        May 24, 2019  \n",
       "...                        ...  \n",
       "2017-11-24   November 24, 2017  \n",
       "2019-10-23    October 23, 2019  \n",
       "2015-10-09     October 9, 2015  \n",
       "2020-12-08    December 8, 2020  \n",
       "2020-10-04     October 4, 2020  \n",
       "\n",
       "[159 rows x 7 columns]"
      ]
     },
     "execution_count": 154,
     "metadata": {},
     "output_type": "execute_result"
    }
   ],
   "source": [
    "\n",
    "doc=df[df.Genre==\"Documentary\"]\n",
    "doc[\"Premiere\"]=pd.to_datetime(doc.Premiere)\n",
    "doc.index=doc[\"Premiere\"]\n",
    "doc\n",
    "\n"
   ]
  },
  {
   "cell_type": "markdown",
   "metadata": {},
   "source": [
    "İngilizce çekilen filmler içerisinde hangi tür en yüksek IMDB puanına sahiptir?\n",
    "\n"
   ]
  },
  {
   "cell_type": "code",
   "execution_count": 156,
   "metadata": {},
   "outputs": [
    {
     "data": {
      "text/html": [
       "<div>\n",
       "<style scoped>\n",
       "    .dataframe tbody tr th:only-of-type {\n",
       "        vertical-align: middle;\n",
       "    }\n",
       "\n",
       "    .dataframe tbody tr th {\n",
       "        vertical-align: top;\n",
       "    }\n",
       "\n",
       "    .dataframe thead th {\n",
       "        text-align: right;\n",
       "    }\n",
       "</style>\n",
       "<table border=\"1\" class=\"dataframe\">\n",
       "  <thead>\n",
       "    <tr style=\"text-align: right;\">\n",
       "      <th></th>\n",
       "      <th>Title</th>\n",
       "      <th>Genre</th>\n",
       "      <th>Premiere</th>\n",
       "      <th>Runtime</th>\n",
       "      <th>IMDB Score</th>\n",
       "      <th>Language</th>\n",
       "      <th>Year</th>\n",
       "    </tr>\n",
       "  </thead>\n",
       "  <tbody>\n",
       "    <tr>\n",
       "      <th>3</th>\n",
       "      <td>The Open House</td>\n",
       "      <td>Horror thriller</td>\n",
       "      <td>January 19, 2018</td>\n",
       "      <td>94</td>\n",
       "      <td>3.2</td>\n",
       "      <td>English</td>\n",
       "      <td>January 19, 2018</td>\n",
       "    </tr>\n",
       "  </tbody>\n",
       "</table>\n",
       "</div>"
      ],
      "text/plain": [
       "            Title            Genre          Premiere  Runtime  IMDB Score  \\\n",
       "3  The Open House  Horror thriller  January 19, 2018       94         3.2   \n",
       "\n",
       "  Language              Year  \n",
       "3  English  January 19, 2018  "
      ]
     },
     "execution_count": 156,
     "metadata": {},
     "output_type": "execute_result"
    }
   ],
   "source": [
    "x = df[(df['Language']== 'English')]\n",
    "long = x.sort_values(by='IMDB Score').head(1)\n",
    "long"
   ]
  },
  {
   "cell_type": "markdown",
   "metadata": {},
   "source": [
    "'Hindi' Dilinde çekilmiş olan filmlerin ortalama 'runtime' suresi nedir?"
   ]
  },
  {
   "cell_type": "code",
   "execution_count": 157,
   "metadata": {},
   "outputs": [
    {
     "data": {
      "text/plain": [
       "115.78787878787878"
      ]
     },
     "execution_count": 157,
     "metadata": {},
     "output_type": "execute_result"
    }
   ],
   "source": [
    "run_hin = pd.DataFrame(df)\n",
    "run_hin= run_hin[(run_hin['Language']== 'Hindi')]\n",
    "run_hin['Runtime'].mean()"
   ]
  },
  {
   "cell_type": "markdown",
   "metadata": {},
   "source": [
    "'Genre' Sütunu kaç kategoriye sahiptir ve bu kategoriler nelerdir? Görselleştirerek ifade ediniz.\n"
   ]
  },
  {
   "cell_type": "code",
   "execution_count": 158,
   "metadata": {},
   "outputs": [
    {
     "data": {
      "text/plain": [
       "115"
      ]
     },
     "execution_count": 158,
     "metadata": {},
     "output_type": "execute_result"
    }
   ],
   "source": [
    "gen=pd.DataFrame({\"Genre\":df[[\"Genre\",\"Language\"]].groupby(\"Genre\").count().index,\"Count\":df[[\"Genre\",\"Language\"]].groupby(\"Genre\").count()[\"Language\"].values})\n",
    "gen.Genre.count()"
   ]
  },
  {
   "cell_type": "markdown",
   "metadata": {},
   "source": [
    "Veri setinde bulunan filmlerde en çok kullanılan 3 dili bulunuz."
   ]
  },
  {
   "cell_type": "code",
   "execution_count": 35,
   "metadata": {},
   "outputs": [
    {
     "data": {
      "text/plain": [
       "English    401\n",
       "Hindi       33\n",
       "Spanish     31\n",
       "Name: Language, dtype: int64"
      ]
     },
     "execution_count": 35,
     "metadata": {},
     "output_type": "execute_result"
    }
   ],
   "source": [
    "#top = pd.DataFrame(df)\n",
    "top = df['Language'].value_counts()\n",
    "top.head(3)"
   ]
  },
  {
   "cell_type": "markdown",
   "metadata": {},
   "source": [
    "IMDB puanı en yüksek olan ilk 10 film hangileridir?"
   ]
  },
  {
   "cell_type": "code",
   "execution_count": 159,
   "metadata": {},
   "outputs": [
    {
     "data": {
      "text/html": [
       "<div>\n",
       "<style scoped>\n",
       "    .dataframe tbody tr th:only-of-type {\n",
       "        vertical-align: middle;\n",
       "    }\n",
       "\n",
       "    .dataframe tbody tr th {\n",
       "        vertical-align: top;\n",
       "    }\n",
       "\n",
       "    .dataframe thead th {\n",
       "        text-align: right;\n",
       "    }\n",
       "</style>\n",
       "<table border=\"1\" class=\"dataframe\">\n",
       "  <thead>\n",
       "    <tr style=\"text-align: right;\">\n",
       "      <th></th>\n",
       "      <th>Title</th>\n",
       "      <th>Genre</th>\n",
       "      <th>Premiere</th>\n",
       "      <th>Runtime</th>\n",
       "      <th>IMDB Score</th>\n",
       "      <th>Language</th>\n",
       "      <th>Year</th>\n",
       "    </tr>\n",
       "  </thead>\n",
       "  <tbody>\n",
       "    <tr>\n",
       "      <th>0</th>\n",
       "      <td>Enter the Anime</td>\n",
       "      <td>Documentary</td>\n",
       "      <td>August 5, 2019</td>\n",
       "      <td>58</td>\n",
       "      <td>2.5</td>\n",
       "      <td>English/Japanese</td>\n",
       "      <td>August 5, 2019</td>\n",
       "    </tr>\n",
       "    <tr>\n",
       "      <th>1</th>\n",
       "      <td>Dark Forces</td>\n",
       "      <td>Thriller</td>\n",
       "      <td>August 21, 2020</td>\n",
       "      <td>81</td>\n",
       "      <td>2.6</td>\n",
       "      <td>Spanish</td>\n",
       "      <td>August 21, 2020</td>\n",
       "    </tr>\n",
       "    <tr>\n",
       "      <th>2</th>\n",
       "      <td>The App</td>\n",
       "      <td>Science fiction/Drama</td>\n",
       "      <td>December 26, 2019</td>\n",
       "      <td>79</td>\n",
       "      <td>2.6</td>\n",
       "      <td>Italian</td>\n",
       "      <td>December 26, 2019</td>\n",
       "    </tr>\n",
       "    <tr>\n",
       "      <th>3</th>\n",
       "      <td>The Open House</td>\n",
       "      <td>Horror thriller</td>\n",
       "      <td>January 19, 2018</td>\n",
       "      <td>94</td>\n",
       "      <td>3.2</td>\n",
       "      <td>English</td>\n",
       "      <td>January 19, 2018</td>\n",
       "    </tr>\n",
       "    <tr>\n",
       "      <th>4</th>\n",
       "      <td>Kaali Khuhi</td>\n",
       "      <td>Mystery</td>\n",
       "      <td>October 30, 2020</td>\n",
       "      <td>90</td>\n",
       "      <td>3.4</td>\n",
       "      <td>Hindi</td>\n",
       "      <td>October 30, 2020</td>\n",
       "    </tr>\n",
       "    <tr>\n",
       "      <th>5</th>\n",
       "      <td>Drive</td>\n",
       "      <td>Action</td>\n",
       "      <td>November 1, 2019</td>\n",
       "      <td>147</td>\n",
       "      <td>3.5</td>\n",
       "      <td>Hindi</td>\n",
       "      <td>November 1, 2019</td>\n",
       "    </tr>\n",
       "    <tr>\n",
       "      <th>6</th>\n",
       "      <td>Leyla Everlasting</td>\n",
       "      <td>Comedy</td>\n",
       "      <td>December 4, 2020</td>\n",
       "      <td>112</td>\n",
       "      <td>3.7</td>\n",
       "      <td>Turkish</td>\n",
       "      <td>December 4, 2020</td>\n",
       "    </tr>\n",
       "    <tr>\n",
       "      <th>7</th>\n",
       "      <td>The Last Days of American Crime</td>\n",
       "      <td>Heist film/Thriller</td>\n",
       "      <td>June 5, 2020</td>\n",
       "      <td>149</td>\n",
       "      <td>3.7</td>\n",
       "      <td>English</td>\n",
       "      <td>June 5, 2020</td>\n",
       "    </tr>\n",
       "    <tr>\n",
       "      <th>8</th>\n",
       "      <td>Paradox</td>\n",
       "      <td>Musical/Western/Fantasy</td>\n",
       "      <td>March 23, 2018</td>\n",
       "      <td>73</td>\n",
       "      <td>3.9</td>\n",
       "      <td>English</td>\n",
       "      <td>March 23, 2018</td>\n",
       "    </tr>\n",
       "    <tr>\n",
       "      <th>9</th>\n",
       "      <td>Sardar Ka Grandson</td>\n",
       "      <td>Comedy</td>\n",
       "      <td>May 18, 2021</td>\n",
       "      <td>139</td>\n",
       "      <td>4.1</td>\n",
       "      <td>Hindi</td>\n",
       "      <td>May 18, 2021</td>\n",
       "    </tr>\n",
       "  </tbody>\n",
       "</table>\n",
       "</div>"
      ],
      "text/plain": [
       "                             Title                    Genre  \\\n",
       "0                  Enter the Anime              Documentary   \n",
       "1                      Dark Forces                 Thriller   \n",
       "2                          The App    Science fiction/Drama   \n",
       "3                   The Open House          Horror thriller   \n",
       "4                      Kaali Khuhi                  Mystery   \n",
       "5                            Drive                   Action   \n",
       "6                Leyla Everlasting                   Comedy   \n",
       "7  The Last Days of American Crime      Heist film/Thriller   \n",
       "8                          Paradox  Musical/Western/Fantasy   \n",
       "9               Sardar Ka Grandson                   Comedy   \n",
       "\n",
       "            Premiere  Runtime  IMDB Score          Language               Year  \n",
       "0     August 5, 2019       58         2.5  English/Japanese     August 5, 2019  \n",
       "1    August 21, 2020       81         2.6           Spanish    August 21, 2020  \n",
       "2  December 26, 2019       79         2.6           Italian  December 26, 2019  \n",
       "3   January 19, 2018       94         3.2           English   January 19, 2018  \n",
       "4   October 30, 2020       90         3.4             Hindi   October 30, 2020  \n",
       "5   November 1, 2019      147         3.5             Hindi   November 1, 2019  \n",
       "6   December 4, 2020      112         3.7           Turkish   December 4, 2020  \n",
       "7       June 5, 2020      149         3.7           English       June 5, 2020  \n",
       "8     March 23, 2018       73         3.9           English     March 23, 2018  \n",
       "9       May 18, 2021      139         4.1             Hindi       May 18, 2021  "
      ]
     },
     "execution_count": 159,
     "metadata": {},
     "output_type": "execute_result"
    }
   ],
   "source": [
    "\n",
    "up_sc = df.sort_values('IMDB Score')\n",
    "up_sc.head(10)"
   ]
  },
  {
   "cell_type": "markdown",
   "metadata": {},
   "source": [
    "IMDB puanı ile 'Runtime' arasında nasıl bir korelasyon vardır? İnceleyip görselleştiriniz."
   ]
  },
  {
   "cell_type": "code",
   "execution_count": 51,
   "metadata": {},
   "outputs": [
    {
     "name": "stdout",
     "output_type": "stream",
     "text": [
      "ARALARINDA İLİŞKİLENDİRME GÖZÜKMEMEKTEDİR \n",
      "            IMDB Score   Runtime\n",
      "IMDB Score    1.000000 -0.040896\n",
      "Runtime      -0.040896  1.000000\n"
     ]
    }
   ],
   "source": [
    "cor = df[[\"IMDB Score\",\"Runtime\"]]\n",
    "print(\"ARALARINDA ÖNEMLİ DERECE İLİŞKİLENDİRME GÖZÜKMEMEKTEDİR \\n{}\".format(cor.corr()))"
   ]
  },
  {
   "cell_type": "markdown",
   "metadata": {},
   "source": [
    "IMDB Puanı en yüksek olan ilk 10 'Genre' hangileridir? Görselleştiriniz."
   ]
  },
  {
   "cell_type": "code",
   "execution_count": 48,
   "metadata": {},
   "outputs": [
    {
     "data": {
      "text/html": [
       "<div>\n",
       "<style scoped>\n",
       "    .dataframe tbody tr th:only-of-type {\n",
       "        vertical-align: middle;\n",
       "    }\n",
       "\n",
       "    .dataframe tbody tr th {\n",
       "        vertical-align: top;\n",
       "    }\n",
       "\n",
       "    .dataframe thead th {\n",
       "        text-align: right;\n",
       "    }\n",
       "</style>\n",
       "<table border=\"1\" class=\"dataframe\">\n",
       "  <thead>\n",
       "    <tr style=\"text-align: right;\">\n",
       "      <th></th>\n",
       "      <th>IMDB Score</th>\n",
       "    </tr>\n",
       "    <tr>\n",
       "      <th>Genre</th>\n",
       "      <th></th>\n",
       "    </tr>\n",
       "  </thead>\n",
       "  <tbody>\n",
       "    <tr>\n",
       "      <th>Documentary</th>\n",
       "      <td>9.0</td>\n",
       "    </tr>\n",
       "    <tr>\n",
       "      <th>One-man show</th>\n",
       "      <td>8.5</td>\n",
       "    </tr>\n",
       "    <tr>\n",
       "      <th>Concert Film</th>\n",
       "      <td>8.4</td>\n",
       "    </tr>\n",
       "    <tr>\n",
       "      <th>Animation/Christmas/Comedy/Adventure</th>\n",
       "      <td>8.2</td>\n",
       "    </tr>\n",
       "    <tr>\n",
       "      <th>Drama</th>\n",
       "      <td>7.9</td>\n",
       "    </tr>\n",
       "    <tr>\n",
       "      <th>Animation / Short</th>\n",
       "      <td>7.8</td>\n",
       "    </tr>\n",
       "    <tr>\n",
       "      <th>Crime drama</th>\n",
       "      <td>7.8</td>\n",
       "    </tr>\n",
       "    <tr>\n",
       "      <th>Musical / Short</th>\n",
       "      <td>7.7</td>\n",
       "    </tr>\n",
       "    <tr>\n",
       "      <th>Making-of</th>\n",
       "      <td>7.7</td>\n",
       "    </tr>\n",
       "    <tr>\n",
       "      <th>War drama</th>\n",
       "      <td>7.7</td>\n",
       "    </tr>\n",
       "  </tbody>\n",
       "</table>\n",
       "</div>"
      ],
      "text/plain": [
       "                                      IMDB Score\n",
       "Genre                                           \n",
       "Documentary                                  9.0\n",
       "One-man show                                 8.5\n",
       "Concert Film                                 8.4\n",
       "Animation/Christmas/Comedy/Adventure         8.2\n",
       "Drama                                        7.9\n",
       "Animation / Short                            7.8\n",
       "Crime drama                                  7.8\n",
       "Musical / Short                              7.7\n",
       "Making-of                                    7.7\n",
       "War drama                                    7.7"
      ]
     },
     "execution_count": 48,
     "metadata": {},
     "output_type": "execute_result"
    }
   ],
   "source": [
    "df[[\"IMDB Score\",\"Genre\"]].groupby(\"Genre\").max().sort_values(by=\"IMDB Score\",ascending=False).head(10)\n",
    "\n"
   ]
  },
  {
   "cell_type": "markdown",
   "metadata": {},
   "source": [
    "'Runtime' değeri en yüksek olan ilk 10 film hangileridir? Görselleştiriniz."
   ]
  },
  {
   "cell_type": "code",
   "execution_count": 160,
   "metadata": {},
   "outputs": [
    {
     "data": {
      "text/plain": [
       "<AxesSubplot:xlabel='Runtime', ylabel='Title'>"
      ]
     },
     "execution_count": 160,
     "metadata": {},
     "output_type": "execute_result"
    },
    {
     "data": {
      "image/png": "[encoded data removed]",
      "text/plain": [
       "<Figure size 432x288 with 1 Axes>"
      ]
     },
     "metadata": {
      "needs_background": "light"
     },
     "output_type": "display_data"
    }
   ],
   "source": [
    "df.groupby(\"Title\").agg({\"Runtime\": \"max\"}).sort_values(by=\"Runtime\", ascending=False)[0:10]\n",
    "\n",
    "up_run = df.groupby(\"Title\").agg({\"Runtime\": \"max\"}).sort_values(by=\"Runtime\", ascending=False)[0:10].reset_index()\n",
    "\n",
    "sns.lineplot(y=up_run[\"Title\"], x=up_run[\"Runtime\"])\n"
   ]
  },
  {
   "cell_type": "markdown",
   "metadata": {},
   "source": [
    "Hangi yılda en fazla film yayımlanmıştır? Görselleştiriniz."
   ]
  },
  {
   "cell_type": "code",
   "execution_count": 161,
   "metadata": {},
   "outputs": [
    {
     "data": {
      "text/plain": [
       "October 2, 2020       6\n",
       "November 1, 2019      5\n",
       "October 18, 2019      5\n",
       "November 2, 2018      4\n",
       "June 19, 2020         4\n",
       "                     ..\n",
       "September 20, 2019    1\n",
       "March 10, 2017        1\n",
       "March 17, 2017        1\n",
       "May 29, 2015          1\n",
       "October 4, 2020       1\n",
       "Name: Premiere, Length: 390, dtype: int64"
      ]
     },
     "execution_count": 161,
     "metadata": {},
     "output_type": "execute_result"
    }
   ],
   "source": [
    "\n",
    "df['Premiere'].value_counts(sort=True)\n"
   ]
  },
  {
   "cell_type": "markdown",
   "metadata": {},
   "source": [
    "Hangi dilde yayımlanan filmler en düşük ortalama IMBD puanına sahiptir? Görselleştiriniz.\n"
   ]
  },
  {
   "cell_type": "code",
   "execution_count": 162,
   "metadata": {},
   "outputs": [
    {
     "name": "stdout",
     "output_type": "stream",
     "text": [
      "ORTALAMA IMDB PUANI IMDB Score    6.271747\n",
      "dtype: float64\n"
     ]
    },
    {
     "name": "stderr",
     "output_type": "stream",
     "text": [
      "C:\\Users\\umutk\\AppData\\Local\\Temp\\ipykernel_12028\\3179034700.py:1: FutureWarning: Dropping of nuisance columns in DataFrame reductions (with 'numeric_only=None') is deprecated; in a future version this will raise TypeError.  Select only valid columns before calling the reduction.\n",
      "  print(\"ORTALAMA IMDB PUANI\",df[[\"IMDB Score\",\"Language\"]].mean())\n"
     ]
    },
    {
     "data": {
      "text/html": [
       "<div>\n",
       "<style scoped>\n",
       "    .dataframe tbody tr th:only-of-type {\n",
       "        vertical-align: middle;\n",
       "    }\n",
       "\n",
       "    .dataframe tbody tr th {\n",
       "        vertical-align: top;\n",
       "    }\n",
       "\n",
       "    .dataframe thead th {\n",
       "        text-align: right;\n",
       "    }\n",
       "</style>\n",
       "<table border=\"1\" class=\"dataframe\">\n",
       "  <thead>\n",
       "    <tr style=\"text-align: right;\">\n",
       "      <th></th>\n",
       "      <th>IMDB Score</th>\n",
       "    </tr>\n",
       "    <tr>\n",
       "      <th>Language</th>\n",
       "      <th></th>\n",
       "    </tr>\n",
       "  </thead>\n",
       "  <tbody>\n",
       "    <tr>\n",
       "      <th>Malay</th>\n",
       "      <td>4.2</td>\n",
       "    </tr>\n",
       "    <tr>\n",
       "      <th>Norwegian</th>\n",
       "      <td>5.1</td>\n",
       "    </tr>\n",
       "    <tr>\n",
       "      <th>Swedish</th>\n",
       "      <td>5.5</td>\n",
       "    </tr>\n",
       "    <tr>\n",
       "      <th>Filipino</th>\n",
       "      <td>5.5</td>\n",
       "    </tr>\n",
       "    <tr>\n",
       "      <th>Spanish/Basque</th>\n",
       "      <td>5.6</td>\n",
       "    </tr>\n",
       "    <tr>\n",
       "      <th>Thai</th>\n",
       "      <td>5.7</td>\n",
       "    </tr>\n",
       "    <tr>\n",
       "      <th>Polish</th>\n",
       "      <td>5.7</td>\n",
       "    </tr>\n",
       "  </tbody>\n",
       "</table>\n",
       "</div>"
      ],
      "text/plain": [
       "                IMDB Score\n",
       "Language                  \n",
       "Malay                  4.2\n",
       "Norwegian              5.1\n",
       "Swedish                5.5\n",
       "Filipino               5.5\n",
       "Spanish/Basque         5.6\n",
       "Thai                   5.7\n",
       "Polish                 5.7"
      ]
     },
     "execution_count": 162,
     "metadata": {},
     "output_type": "execute_result"
    }
   ],
   "source": [
    "\n",
    "print(\"ORTALAMA IMDB PUANI\",df[[\"IMDB Score\",\"Language\"]].mean())\n",
    "df[[\"IMDB Score\",\"Language\"]].groupby(\"Language\").max().sort_values(by=\"IMDB Score\",ascending=True).head(7)\n"
   ]
  },
  {
   "cell_type": "markdown",
   "metadata": {},
   "source": [
    "Hangi yılın toplam \"runtime\" süresi en fazladır?"
   ]
  },
  {
   "cell_type": "code",
   "execution_count": 92,
   "metadata": {},
   "outputs": [
    {
     "data": {
      "text/html": [
       "<div>\n",
       "<style scoped>\n",
       "    .dataframe tbody tr th:only-of-type {\n",
       "        vertical-align: middle;\n",
       "    }\n",
       "\n",
       "    .dataframe tbody tr th {\n",
       "        vertical-align: top;\n",
       "    }\n",
       "\n",
       "    .dataframe thead th {\n",
       "        text-align: right;\n",
       "    }\n",
       "</style>\n",
       "<table border=\"1\" class=\"dataframe\">\n",
       "  <thead>\n",
       "    <tr style=\"text-align: right;\">\n",
       "      <th></th>\n",
       "      <th>Runtime</th>\n",
       "    </tr>\n",
       "    <tr>\n",
       "      <th>Premiere</th>\n",
       "      <th></th>\n",
       "    </tr>\n",
       "  </thead>\n",
       "  <tbody>\n",
       "    <tr>\n",
       "      <th>October 2, 2020</th>\n",
       "      <td>600</td>\n",
       "    </tr>\n",
       "  </tbody>\n",
       "</table>\n",
       "</div>"
      ],
      "text/plain": [
       "                 Runtime\n",
       "Premiere                \n",
       "October 2, 2020      600"
      ]
     },
     "execution_count": 92,
     "metadata": {},
     "output_type": "execute_result"
    }
   ],
   "source": [
    "df.groupby(\"Premiere\").agg({\"Runtime\": \"sum\"}).sort_values(by=\"Runtime\", ascending=False)[0:1]"
   ]
  },
  {
   "cell_type": "markdown",
   "metadata": {},
   "source": [
    "Her bir dilin en fazla kullanıldığı \"Genre\" nedir?"
   ]
  },
  {
   "cell_type": "code",
   "execution_count": 90,
   "metadata": {},
   "outputs": [
    {
     "data": {
      "text/plain": [
       "Language      Genre          \n",
       "Bengali       Documentary          1\n",
       "Dutch         Crime drama          1\n",
       "              Fantasy              1\n",
       "              Romantic comedy      1\n",
       "English       Documentary        120\n",
       "                                ... \n",
       "Thai          Horror               1\n",
       "Thia/English  Documentary          1\n",
       "Turkish       Comedy               2\n",
       "              Drama                2\n",
       "              Romance              1\n",
       "Name: Genre, Length: 204, dtype: int64"
      ]
     },
     "execution_count": 90,
     "metadata": {},
     "output_type": "execute_result"
    }
   ],
   "source": [
    "\n",
    "\n",
    "\n",
    "df.groupby([\"Language\"])[\"Genre\"].value_counts(ascending=False)\n"
   ]
  },
  {
   "cell_type": "markdown",
   "metadata": {},
   "source": [
    "Veri setinde outlier veri var mıdır? Açıklayınız.\n",
    "\n",
    "incelenecek 2 tür veri vardır \n",
    "1)runtime\n",
    "2)imdb score"
   ]
  },
  {
   "cell_type": "markdown",
   "metadata": {},
   "source": [
    "1)RUNTIME İÇİN OUTLIER VERİLER"
   ]
  },
  {
   "cell_type": "code",
   "execution_count": 112,
   "metadata": {},
   "outputs": [
    {
     "name": "stdout",
     "output_type": "stream",
     "text": [
      "count    584.000000\n",
      "mean      93.577055\n",
      "std       27.761683\n",
      "min        4.000000\n",
      "25%       86.000000\n",
      "50%       97.000000\n",
      "75%      108.000000\n",
      "max      209.000000\n",
      "Name: Runtime, dtype: float64\n",
      "veriler incelendiğinde ort. 93.5 , std 27.7 ,  en küçük değerin 4 ve en büyük değerin 209 olduğu görülmüştür. grafiğe de bakıldığında aykırı değerlerin 0-50 arasında daha fazla yığıldığı görülmnektedir.\n"
     ]
    },
    {
     "name": "stderr",
     "output_type": "stream",
     "text": [
      "c:\\Users\\umutk\\AppData\\Local\\Programs\\Python\\Python39\\lib\\site-packages\\seaborn\\_decorators.py:36: FutureWarning: Pass the following variable as a keyword arg: x. From version 0.12, the only valid positional argument will be `data`, and passing other arguments without an explicit keyword will result in an error or misinterpretation.\n",
      "  warnings.warn(\n"
     ]
    },
    {
     "data": {
      "text/plain": [
       "<AxesSubplot:xlabel='Runtime'>"
      ]
     },
     "execution_count": 112,
     "metadata": {},
     "output_type": "execute_result"
    },
    {
     "data": {
      "image/png": "[encoded data removed]",
      "text/plain": [
       "<Figure size 432x288 with 1 Axes>"
      ]
     },
     "metadata": {
      "needs_background": "light"
     },
     "output_type": "display_data"
    }
   ],
   "source": [
    "print(df.Runtime.describe())\n",
    "print(\"veriler incelendiğinde ort. 93.5 , std 27.7 ,  en küçük değerin 4 ve en büyük değerin 209 olduğu görülmüştür. grafiğe de bakıldığında aykırı değerlerin(runtime) 0-50 arasında daha fazla yığıldığı görülmnektedir.\")\n",
    "sns.boxenplot(df[\"Runtime\"])"
   ]
  },
  {
   "cell_type": "markdown",
   "metadata": {},
   "source": [
    "2)IMDB SCORE İÇİN OUTLİER VERİLER"
   ]
  },
  {
   "cell_type": "code",
   "execution_count": 113,
   "metadata": {},
   "outputs": [
    {
     "name": "stdout",
     "output_type": "stream",
     "text": [
      "count    584.000000\n",
      "mean       6.271747\n",
      "std        0.979256\n",
      "min        2.500000\n",
      "25%        5.700000\n",
      "50%        6.350000\n",
      "75%        7.000000\n",
      "max        9.000000\n",
      "Name: IMDB Score, dtype: float64\n",
      "veriler incelendiğinde ort. 6.2 , std 0.98 ,  en küçük değerin 2.5 ve en büyük değerin 9 olduğu görülmüştür.grafikte (ımdb score) 0-3. verilerin 8-9 verilerine göre daha fazla old. anlaşılmaktadır  \n"
     ]
    },
    {
     "name": "stderr",
     "output_type": "stream",
     "text": [
      "c:\\Users\\umutk\\AppData\\Local\\Programs\\Python\\Python39\\lib\\site-packages\\seaborn\\_decorators.py:36: FutureWarning: Pass the following variable as a keyword arg: x. From version 0.12, the only valid positional argument will be `data`, and passing other arguments without an explicit keyword will result in an error or misinterpretation.\n",
      "  warnings.warn(\n"
     ]
    },
    {
     "data": {
      "text/plain": [
       "<AxesSubplot:xlabel='IMDB Score'>"
      ]
     },
     "execution_count": 113,
     "metadata": {},
     "output_type": "execute_result"
    },
    {
     "data": {
      "image/png": "[encoded data removed]",
      "text/plain": [
       "<Figure size 432x288 with 1 Axes>"
      ]
     },
     "metadata": {
      "needs_background": "light"
     },
     "output_type": "display_data"
    }
   ],
   "source": [
    "\n",
    "print(df[\"IMDB Score\"].describe())\n",
    "print(\"veriler incelendiğinde ort. 6.2 , std 0.98 ,  en küçük değerin 2.5 ve en büyük değerin 9 olduğu görülmüştür.grafikte (ımdb score) 0-3. verilerin 8-9 verilerine göre daha fazla old. anlaşılmaktadır  \")\n",
    "sns.boxenplot(df[\"IMDB Score\"])\n"
   ]
  }
 ],
 "metadata": {
  "kernelspec": {
   "display_name": "Python 3.9.5 64-bit",
   "language": "python",
   "name": "python3"
  },
  "language_info": {
   "codemirror_mode": {
    "name": "ipython",
    "version": 3
   },
   "file_extension": ".py",
   "mimetype": "text/x-python",
   "name": "python",
   "nbconvert_exporter": "python",
   "pygments_lexer": "ipython3",
   "version": "3.9.5"
  },
  "orig_nbformat": 4,
  "vscode": {
   "interpreter": {
    "hash": "78923b2d5e6018e0e6b2e5907a12090c583951b6dc63317b7bd54daded8dce81"
   }
  }
 },
 "nbformat": 4,
 "nbformat_minor": 2
}
